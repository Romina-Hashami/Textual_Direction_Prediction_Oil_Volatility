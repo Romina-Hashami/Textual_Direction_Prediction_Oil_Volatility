{
 "cells": [
  {
   "cell_type": "code",
   "execution_count": 1,
   "id": "309fcf47",
   "metadata": {},
   "outputs": [],
   "source": [
    "from textblob import TextBlob\n",
    "import pandas as pd"
   ]
  },
  {
   "cell_type": "code",
   "execution_count": 2,
   "id": "65cc530d",
   "metadata": {},
   "outputs": [],
   "source": [
    "#df_news = pd.read_csv('news_data.csv')\n",
    "#df_news = df_news.drop('Unnamed: 0', axis = 1)"
   ]
  },
  {
   "cell_type": "code",
   "execution_count": 2,
   "id": "b5ca54a3-ad16-47b9-b323-7f24eb3d4950",
   "metadata": {},
   "outputs": [
    {
     "data": {
      "text/html": [
       "<div>\n",
       "<style scoped>\n",
       "    .dataframe tbody tr th:only-of-type {\n",
       "        vertical-align: middle;\n",
       "    }\n",
       "\n",
       "    .dataframe tbody tr th {\n",
       "        vertical-align: top;\n",
       "    }\n",
       "\n",
       "    .dataframe thead th {\n",
       "        text-align: right;\n",
       "    }\n",
       "</style>\n",
       "<table border=\"1\" class=\"dataframe\">\n",
       "  <thead>\n",
       "    <tr style=\"text-align: right;\">\n",
       "      <th></th>\n",
       "      <th>Date</th>\n",
       "      <th>Text</th>\n",
       "    </tr>\n",
       "  </thead>\n",
       "  <tbody>\n",
       "    <tr>\n",
       "      <th>0</th>\n",
       "      <td>8/16/21</td>\n",
       "      <td>China's daily crude steel output down 4.4 pct ...</td>\n",
       "    </tr>\n",
       "    <tr>\n",
       "      <th>1</th>\n",
       "      <td>8/16/21</td>\n",
       "      <td>MONETARIO - Cosa succede oggi lunedì 16 agosto...</td>\n",
       "    </tr>\n",
       "    <tr>\n",
       "      <th>2</th>\n",
       "      <td>8/16/21</td>\n",
       "      <td>India's GSPC seeks 18 LNG cargoes for 2022-202...</td>\n",
       "    </tr>\n",
       "    <tr>\n",
       "      <th>3</th>\n",
       "      <td>8/16/21</td>\n",
       "      <td>BUZZ-COMMENT-Norges Bank could change the NOK'...</td>\n",
       "    </tr>\n",
       "    <tr>\n",
       "      <th>4</th>\n",
       "      <td>8/16/21</td>\n",
       "      <td>MERCADOS GLOBALES-Acciones mundiales caen por ...</td>\n",
       "    </tr>\n",
       "    <tr>\n",
       "      <th>...</th>\n",
       "      <td>...</td>\n",
       "      <td>...</td>\n",
       "    </tr>\n",
       "    <tr>\n",
       "      <th>592853</th>\n",
       "      <td>1/31/24</td>\n",
       "      <td>govern samoa februari 2024 retail fuel price</td>\n",
       "    </tr>\n",
       "    <tr>\n",
       "      <th>592854</th>\n",
       "      <td>1/31/24</td>\n",
       "      <td>quadris fuel intern lonqfi share price pass 20...</td>\n",
       "    </tr>\n",
       "    <tr>\n",
       "      <th>592855</th>\n",
       "      <td>1/31/24</td>\n",
       "      <td>hapaglloyd ceo freight rate rise q1 2024 compa...</td>\n",
       "    </tr>\n",
       "    <tr>\n",
       "      <th>592856</th>\n",
       "      <td>1/31/24</td>\n",
       "      <td>buzza justifi volatil premium eurusd fx option</td>\n",
       "    </tr>\n",
       "    <tr>\n",
       "      <th>592857</th>\n",
       "      <td>1/31/24</td>\n",
       "      <td>russia novak current oil price adequ reflect m...</td>\n",
       "    </tr>\n",
       "  </tbody>\n",
       "</table>\n",
       "<p>592858 rows × 2 columns</p>\n",
       "</div>"
      ],
      "text/plain": [
       "           Date                                               Text\n",
       "0       8/16/21  China's daily crude steel output down 4.4 pct ...\n",
       "1       8/16/21  MONETARIO - Cosa succede oggi lunedì 16 agosto...\n",
       "2       8/16/21  India's GSPC seeks 18 LNG cargoes for 2022-202...\n",
       "3       8/16/21  BUZZ-COMMENT-Norges Bank could change the NOK'...\n",
       "4       8/16/21  MERCADOS GLOBALES-Acciones mundiales caen por ...\n",
       "...         ...                                                ...\n",
       "592853  1/31/24       govern samoa februari 2024 retail fuel price\n",
       "592854  1/31/24  quadris fuel intern lonqfi share price pass 20...\n",
       "592855  1/31/24  hapaglloyd ceo freight rate rise q1 2024 compa...\n",
       "592856  1/31/24     buzza justifi volatil premium eurusd fx option\n",
       "592857  1/31/24  russia novak current oil price adequ reflect m...\n",
       "\n",
       "[592858 rows x 2 columns]"
      ]
     },
     "execution_count": 2,
     "metadata": {},
     "output_type": "execute_result"
    }
   ],
   "source": [
    "df_news = pd.read_csv('/Users/macbook/Documents/PhD_Documents/Second_paper/new_data_2021/headlines/total_news_data/news_total_file.csv')\n",
    "df_news"
   ]
  },
  {
   "cell_type": "code",
   "execution_count": 3,
   "id": "d9d24363",
   "metadata": {},
   "outputs": [],
   "source": [
    "def get_sentiment(text):\n",
    "    analysis = TextBlob(text)\n",
    "    return analysis.sentiment.polarity\n",
    "\n",
    "# Apply sentiment analysis to 'Headlines' column\n",
    "df_news['textblob_Sentiment'] = df_news['Text'].apply(get_sentiment)"
   ]
  },
  {
   "cell_type": "code",
   "execution_count": 4,
   "id": "28362b7f",
   "metadata": {},
   "outputs": [
    {
     "name": "stdout",
     "output_type": "stream",
     "text": [
      "        Date  mean_positive_sentiment_textblob  \\\n",
      "0     1/1/14                          0.000000   \n",
      "1     1/1/15                          0.000000   \n",
      "2     1/1/16                          0.179027   \n",
      "3     1/1/17                          0.000000   \n",
      "4     1/1/18                          0.054205   \n",
      "...      ...                               ...   \n",
      "3678  9/9/19                          0.030170   \n",
      "3679  9/9/20                          0.025655   \n",
      "3680  9/9/21                          0.035417   \n",
      "3681  9/9/22                          0.038778   \n",
      "3682  9/9/23                          0.050341   \n",
      "\n",
      "      mean_negative_sentiment_textblob  \n",
      "0                            -0.375000  \n",
      "1                            -0.622222  \n",
      "2                            -0.700000  \n",
      "3                            -0.550000  \n",
      "4                            -0.331939  \n",
      "...                                ...  \n",
      "3678                         -0.410011  \n",
      "3679                         -0.414788  \n",
      "3680                         -0.179996  \n",
      "3681                         -0.407245  \n",
      "3682                         -0.433231  \n",
      "\n",
      "[3683 rows x 3 columns]\n"
     ]
    }
   ],
   "source": [
    "crudebert = df_news.groupby('Date')['textblob_sentiment'].mean().reset_index()\n",
    "\n",
    "# Rename columns\n",
    "crudebert.columns = ['Date', 'textblob']\n",
    "#crudebert = crudebert.rename(columns={'date': 'date_column'})\n",
    "crudebert"
   ]
  },
  {
   "cell_type": "code",
   "execution_count": 6,
   "id": "8aa8af35",
   "metadata": {},
   "outputs": [],
   "source": [
    "result.to_csv('results/textblob.csv')"
   ]
  },
  {
   "cell_type": "code",
   "execution_count": 5,
   "id": "434324d3",
   "metadata": {},
   "outputs": [],
   "source": [
    "crudebert.to_csv('/Users/macbook/Documents/PhD_Documents/sentiment_methods/sentiments/results/news_textblob.csv')"
   ]
  },
  {
   "cell_type": "code",
   "execution_count": null,
   "id": "224cc765-4112-41f6-8ad8-38b75e9e772d",
   "metadata": {},
   "outputs": [],
   "source": []
  }
 ],
 "metadata": {
  "kernelspec": {
   "display_name": "Python 3 (ipykernel)",
   "language": "python",
   "name": "python3"
  },
  "language_info": {
   "codemirror_mode": {
    "name": "ipython",
    "version": 3
   },
   "file_extension": ".py",
   "mimetype": "text/x-python",
   "name": "python",
   "nbconvert_exporter": "python",
   "pygments_lexer": "ipython3",
   "version": "3.10.9"
  }
 },
 "nbformat": 4,
 "nbformat_minor": 5
}
