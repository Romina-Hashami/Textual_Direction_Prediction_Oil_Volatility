{
 "cells": [
  {
   "cell_type": "code",
   "execution_count": 2,
   "id": "c19717a9",
   "metadata": {},
   "outputs": [],
   "source": [
    "import pandas as pd\n",
    "import fasttext\n",
    "import numpy as np\n",
    "from tqdm import tqdm  # Import tqdm for progress bar"
   ]
  },
  {
   "cell_type": "code",
   "execution_count": 3,
   "id": "6201d1e7-b757-4de1-b242-b944d12e4441",
   "metadata": {},
   "outputs": [
    {
     "name": "stderr",
     "output_type": "stream",
     "text": [
      "/var/folders/jw/_prd4c6n32ggl_4pwszrqnsh0000gn/T/ipykernel_25535/3095340104.py:8: UserWarning: Could not infer format, so each element will be parsed individually, falling back to `dateutil`. To ensure parsing is consistent and as-expected, please specify a format.\n",
      "  df_news['Date'] = pd.to_datetime(df_news['Date'], errors='coerce')\n"
     ]
    },
    {
     "name": "stdout",
     "output_type": "stream",
     "text": [
      "              Date                                               Text\n",
      "1328    2014-01-01  railcar north dakota crude train crash older l...\n",
      "1329    2014-01-01  skorea dec crude oil import 84 pct yy prelimin...\n",
      "1330    2014-01-01  updat 1iraq oil export averag 2341 mln bpd dec...\n",
      "1331    2014-01-01  iraq oil export averag 2341 mln bpd decemb min...\n",
      "1332    2014-01-01  brazil petrobra start product roncador field p...\n",
      "...            ...                                                ...\n",
      "592597  2024-01-31  us senat committe energi natur resourc full co...\n",
      "592596  2024-01-31  new jersey natur ga compani new jersey natur g...\n",
      "592595  2024-01-31  oil lower us crude stock build score first mon...\n",
      "592665  2024-01-31                    oil price goe brent 8219 barrel\n",
      "592857  2024-01-31  russia novak current oil price adequ reflect m...\n",
      "\n",
      "[592858 rows x 2 columns]\n"
     ]
    }
   ],
   "source": [
    "# Load the data\n",
    "df_news = pd.read_csv('/Users/macbook/Documents/PhD_Documents/embedding_methods/news_data/news_total_file.csv')\n",
    "\n",
    "# Drop 'Unnamed: 0' column and remove duplicate values\n",
    "df_news = df_news.drop(columns=['Unnamed: 0'], errors='ignore').drop_duplicates()\n",
    "\n",
    "# Ensure the Date column is in datetime format\n",
    "df_news['Date'] = pd.to_datetime(df_news['Date'], errors='coerce')\n",
    "\n",
    "# Drop rows where the Date conversion failed\n",
    "df_news = df_news.dropna(subset=['Date'])\n",
    "\n",
    "# Sort by Date and format it as YYYY-MM-DD\n",
    "df_news = df_news.sort_values(by='Date')\n",
    "df_news['Date'] = df_news['Date'].dt.strftime('%Y-%m-%d')\n",
    "\n",
    "# Drop duplicates again after formatting Date\n",
    "df_news = df_news.drop_duplicates()\n",
    "\n",
    "# Display the cleaned DataFrame\n",
    "print(df_news)"
   ]
  },
  {
   "cell_type": "code",
   "execution_count": 4,
   "id": "39a3c50c",
   "metadata": {},
   "outputs": [
    {
     "name": "stderr",
     "output_type": "stream",
     "text": [
      "Embedding Progress: 100%|████████████| 592858/592858 [00:28<00:00, 21167.68it/s]\n"
     ]
    },
    {
     "name": "stdout",
     "output_type": "stream",
     "text": [
      "            Date                                               Text  \\\n",
      "1328  2014-01-01  railcar north dakota crude train crash older l...   \n",
      "1329  2014-01-01  skorea dec crude oil import 84 pct yy prelimin...   \n",
      "1330  2014-01-01  updat 1iraq oil export averag 2341 mln bpd dec...   \n",
      "1331  2014-01-01  iraq oil export averag 2341 mln bpd decemb min...   \n",
      "1332  2014-01-01  brazil petrobra start product roncador field p...   \n",
      "\n",
      "                                             embeddings  \n",
      "1328  [0.005304390098899603, 0.0010181422112509608, ...  \n",
      "1329  [-0.014805530197918415, 0.037456776946783066, ...  \n",
      "1330  [0.014550027437508106, 0.0012422610307112336, ...  \n",
      "1331  [0.004683321807533503, -0.000922685896512121, ...  \n",
      "1332  [-0.0034821629524230957, 0.021212242543697357,...  \n",
      "[[ 0.00530439  0.00101814 -0.00991612 ...  0.0575906   0.0419199\n",
      "   0.00623459]\n",
      " [-0.01480553  0.03745678 -0.02720275 ...  0.10508431  0.04475201\n",
      "   0.01449827]\n",
      " [ 0.01455003  0.00124226 -0.04250472 ...  0.06986248  0.02874949\n",
      "  -0.00306012]\n",
      " ...\n",
      " [-0.00765082  0.01376198 -0.00515851 ...  0.06780481  0.0084172\n",
      "  -0.01479966]\n",
      " [-0.01236431  0.01673184 -0.04252624 ...  0.08114578 -0.01268113\n",
      "  -0.00570877]\n",
      " [-0.04022017  0.05065528 -0.02874846 ...  0.06882413 -0.01609866\n",
      "   0.00142694]]\n"
     ]
    }
   ],
   "source": [
    "# Load the pre-trained FastText model\n",
    "model = fasttext.load_model('/Users/macbook/Documents/PhD_Documents/Second_paper/Fasttext/cc.en.300.bin')\n",
    "\n",
    "# Function to embed text\n",
    "def embed_text(text, model):\n",
    "    text = str(text)\n",
    "    return model.get_sentence_vector(text)\n",
    "\n",
    "# Assuming df_news_1['text'] contains the text data you want to embed\n",
    "\n",
    "# Initialize an empty list to store embeddings\n",
    "embeddings = []\n",
    "\n",
    "# Use tqdm with a generator expression to show progress\n",
    "for idx, row in tqdm(df_news.iterrows(), total=len(df_news), desc=\"Embedding Progress\"):\n",
    "    embedded_text = embed_text(row['Text'], model)\n",
    "    embeddings.append(embedded_text)\n",
    "\n",
    "# Convert embeddings list to numpy array\n",
    "embeddings = np.vstack(embeddings)\n",
    "\n",
    "# Create a new column 'embeddings' in df_news_1 and assign embeddings\n",
    "df_news['embeddings'] = embeddings.tolist()  # Convert embeddings to list if needed\n",
    "\n",
    "# Print DataFrame and embeddings\n",
    "print(df_news.head())\n",
    "print(embeddings)"
   ]
  },
  {
   "cell_type": "code",
   "execution_count": 5,
   "id": "604b59c3",
   "metadata": {},
   "outputs": [
    {
     "name": "stdout",
     "output_type": "stream",
     "text": [
      "              Date                                               Text  \\\n",
      "1328    2014-01-01  railcar north dakota crude train crash older l...   \n",
      "1329    2014-01-01  skorea dec crude oil import 84 pct yy prelimin...   \n",
      "1330    2014-01-01  updat 1iraq oil export averag 2341 mln bpd dec...   \n",
      "1331    2014-01-01  iraq oil export averag 2341 mln bpd decemb min...   \n",
      "1332    2014-01-01  brazil petrobra start product roncador field p...   \n",
      "...            ...                                                ...   \n",
      "592597  2024-01-31  us senat committe energi natur resourc full co...   \n",
      "592596  2024-01-31  new jersey natur ga compani new jersey natur g...   \n",
      "592595  2024-01-31  oil lower us crude stock build score first mon...   \n",
      "592665  2024-01-31                    oil price goe brent 8219 barrel   \n",
      "592857  2024-01-31  russia novak current oil price adequ reflect m...   \n",
      "\n",
      "        feature_0  feature_1  feature_2  feature_3  feature_4  feature_5  \\\n",
      "1328     0.005304   0.001018  -0.009916   0.061177  -0.025429   0.026075   \n",
      "1329    -0.014806   0.037457  -0.027203   0.039580   0.002512   0.014462   \n",
      "1330     0.014550   0.001242  -0.042505   0.033878  -0.015424   0.027201   \n",
      "1331     0.004683  -0.000923  -0.036011   0.022967  -0.035862   0.030071   \n",
      "1332    -0.003482   0.021212   0.000210   0.070573  -0.032669   0.036175   \n",
      "...           ...        ...        ...        ...        ...        ...   \n",
      "592597   0.004845  -0.016030  -0.044340   0.033273  -0.032980   0.045087   \n",
      "592596   0.016775  -0.004550  -0.004716   0.046497  -0.031703   0.050724   \n",
      "592595  -0.007651   0.013762  -0.005159   0.071288  -0.030673   0.022409   \n",
      "592665  -0.012364   0.016732  -0.042526   0.022159  -0.050525   0.051910   \n",
      "592857  -0.040220   0.050655  -0.028748   0.050926  -0.051423   0.030982   \n",
      "\n",
      "        feature_6  feature_7  ...  feature_290  feature_291  feature_292  \\\n",
      "1328     0.040075  -0.000501  ...     0.027718     0.004246    -0.056279   \n",
      "1329     0.013368  -0.040859  ...     0.005215     0.031232    -0.042609   \n",
      "1330    -0.041046  -0.030384  ...    -0.006173     0.021294    -0.011435   \n",
      "1331    -0.033845  -0.022254  ...    -0.019366     0.019846    -0.014451   \n",
      "1332     0.053025  -0.002365  ...     0.040720    -0.000437    -0.045935   \n",
      "...           ...        ...  ...          ...          ...          ...   \n",
      "592597  -0.030417   0.008081  ...     0.037438     0.006646    -0.068287   \n",
      "592596   0.036861  -0.005399  ...     0.027382     0.012148    -0.064167   \n",
      "592595   0.025466  -0.025891  ...     0.044393     0.014041    -0.026738   \n",
      "592665   0.019854  -0.004339  ...    -0.005103    -0.001821    -0.010699   \n",
      "592857   0.034805  -0.025961  ...     0.036536     0.016599    -0.082834   \n",
      "\n",
      "        feature_293  feature_294  feature_295  feature_296  feature_297  \\\n",
      "1328       0.007185     0.038695     0.035538     0.035674     0.057591   \n",
      "1329       0.018229     0.026849     0.016976    -0.006732     0.105084   \n",
      "1330       0.004031     0.005107     0.029264    -0.026723     0.069862   \n",
      "1331       0.024346     0.003630     0.037849    -0.042350     0.075180   \n",
      "1332       0.029024     0.015586     0.001986    -0.020396     0.055582   \n",
      "...             ...          ...          ...          ...          ...   \n",
      "592597     0.011109     0.016267     0.014105     0.001631     0.063299   \n",
      "592596     0.042177     0.028220    -0.015622     0.017439     0.064352   \n",
      "592595     0.013708     0.002134    -0.010561    -0.024939     0.067805   \n",
      "592665     0.068796     0.017785     0.039937    -0.023118     0.081146   \n",
      "592857     0.034383     0.007621     0.011947    -0.008387     0.068824   \n",
      "\n",
      "        feature_298  feature_299  \n",
      "1328       0.041920     0.006235  \n",
      "1329       0.044752     0.014498  \n",
      "1330       0.028749    -0.003060  \n",
      "1331       0.040837    -0.004391  \n",
      "1332      -0.023244     0.013368  \n",
      "...             ...          ...  \n",
      "592597     0.003839     0.005728  \n",
      "592596    -0.006135     0.003410  \n",
      "592595     0.008417    -0.014800  \n",
      "592665    -0.012681    -0.005709  \n",
      "592857    -0.016099     0.001427  \n",
      "\n",
      "[592858 rows x 302 columns]\n"
     ]
    }
   ],
   "source": [
    "# Split the embeddings into separate columns\n",
    "embeddings_df = pd.DataFrame(df_news['embeddings'].tolist(), index=df_news.index)\n",
    "embeddings_df.columns = [f'feature_{i}' for i in range(embeddings_df.shape[1])]\n",
    "\n",
    "# Concatenate the original dataframe with the embeddings dataframe\n",
    "final_df = pd.concat([df_news.drop(columns=['embeddings']), embeddings_df], axis=1)\n",
    "\n",
    "# Display the final dataframe\n",
    "print(final_df)"
   ]
  },
  {
   "cell_type": "code",
   "execution_count": 6,
   "id": "59d1b23d-37dd-4318-91dd-417a8eceef4c",
   "metadata": {},
   "outputs": [],
   "source": [
    "final_df.to_csv('Fasttext_total_embedding.csv')"
   ]
  },
  {
   "cell_type": "code",
   "execution_count": 7,
   "id": "6e55b12b-f742-445f-be02-0e9bc00bac1b",
   "metadata": {},
   "outputs": [
    {
     "name": "stdout",
     "output_type": "stream",
     "text": [
      "            feature_0  feature_1  feature_2  feature_3  feature_4  feature_5  \\\n",
      "Date                                                                           \n",
      "2014-01-01   0.002360   0.010469  -0.022791   0.041059  -0.024977   0.022706   \n",
      "2014-01-02  -0.012337   0.006026  -0.019221   0.054330  -0.027131   0.021439   \n",
      "2014-01-03  -0.012656   0.006681  -0.020059   0.058060  -0.020275   0.015391   \n",
      "2014-01-04  -0.035902  -0.001695  -0.019933   0.052761  -0.035921   0.068589   \n",
      "2014-01-05  -0.017930   0.006039  -0.008833   0.061439  -0.027526   0.035032   \n",
      "...               ...        ...        ...        ...        ...        ...   \n",
      "2024-01-27  -0.012292   0.002669  -0.009766   0.055353  -0.030776   0.023631   \n",
      "2024-01-28  -0.016020   0.005003  -0.016132   0.051173  -0.020691   0.022844   \n",
      "2024-01-29  -0.013944   0.003808  -0.019126   0.051217  -0.020539   0.024478   \n",
      "2024-01-30  -0.014090   0.004389  -0.018588   0.050058  -0.022026   0.027804   \n",
      "2024-01-31  -0.012852   0.004556  -0.023151   0.046981  -0.018441   0.027702   \n",
      "\n",
      "            feature_6  feature_7  feature_8  feature_9  ...  feature_290  \\\n",
      "Date                                                    ...                \n",
      "2014-01-01   0.004197  -0.021602  -0.001124   0.005613  ...     0.008096   \n",
      "2014-01-02   0.017403  -0.004648   0.007275   0.015292  ...     0.024897   \n",
      "2014-01-03   0.018482   0.003273   0.003877   0.012916  ...     0.026855   \n",
      "2014-01-04   0.015725  -0.013987   0.021100   0.025170  ...     0.033713   \n",
      "2014-01-05   0.011895  -0.012800   0.004043   0.009002  ...     0.029247   \n",
      "...               ...        ...        ...        ...  ...          ...   \n",
      "2024-01-27   0.012749   0.002525   0.014451   0.009817  ...     0.031525   \n",
      "2024-01-28   0.017873   0.004497   0.007930   0.015415  ...     0.028374   \n",
      "2024-01-29   0.016795  -0.003387   0.006630   0.012154  ...     0.027109   \n",
      "2024-01-30   0.013646  -0.000731   0.005737   0.012680  ...     0.028153   \n",
      "2024-01-31   0.009954  -0.002544   0.005892   0.013733  ...     0.023459   \n",
      "\n",
      "            feature_291  feature_292  feature_293  feature_294  feature_295  \\\n",
      "Date                                                                          \n",
      "2014-01-01     0.012289    -0.040603     0.017751     0.018631     0.022661   \n",
      "2014-01-02     0.011704    -0.062159     0.025907     0.011880     0.020995   \n",
      "2014-01-03     0.008763    -0.062219     0.026939     0.010060     0.019559   \n",
      "2014-01-04     0.005027    -0.056695     0.031853    -0.007349     0.031230   \n",
      "2014-01-05     0.010263    -0.064287     0.028841     0.001878     0.003001   \n",
      "...                 ...          ...          ...          ...          ...   \n",
      "2024-01-27     0.005856    -0.063026     0.019123     0.006140     0.015854   \n",
      "2024-01-28     0.002149    -0.055219     0.016368     0.011856     0.014465   \n",
      "2024-01-29     0.010546    -0.055447     0.022544     0.011482     0.014851   \n",
      "2024-01-30     0.008693    -0.052113     0.020472     0.010657     0.017478   \n",
      "2024-01-31     0.007764    -0.052744     0.021300     0.009742     0.016918   \n",
      "\n",
      "            feature_296  feature_297  feature_298  feature_299  \n",
      "Date                                                            \n",
      "2014-01-01    -0.012347     0.075700     0.018698    -0.003157  \n",
      "2014-01-02    -0.017007     0.069344     0.018428    -0.007644  \n",
      "2014-01-03    -0.017593     0.069376     0.019294    -0.003506  \n",
      "2014-01-04    -0.045709     0.046889     0.042688    -0.041901  \n",
      "2014-01-05    -0.012845     0.058479     0.025300    -0.010668  \n",
      "...                 ...          ...          ...          ...  \n",
      "2024-01-27    -0.019485     0.062423     0.018817    -0.014934  \n",
      "2024-01-28    -0.014457     0.075723     0.013893    -0.012513  \n",
      "2024-01-29    -0.012336     0.073524     0.015074    -0.006329  \n",
      "2024-01-30    -0.014555     0.074301     0.011804    -0.006423  \n",
      "2024-01-31    -0.016049     0.077653     0.013511    -0.001997  \n",
      "\n",
      "[3683 rows x 300 columns]\n"
     ]
    }
   ],
   "source": [
    "# Drop the 'Text' column\n",
    "final_df = final_df.drop(columns=['Text'])\n",
    "\n",
    "# Compute the mean of features grouped by the 'Date' column\n",
    "mean_grouped_df = final_df.groupby('Date').mean()\n",
    "\n",
    "# Display the resulting dataframe\n",
    "print(mean_grouped_df)"
   ]
  },
  {
   "cell_type": "code",
   "execution_count": 8,
   "id": "da66c36a-faa1-4820-9f11-1aa2b4269005",
   "metadata": {},
   "outputs": [],
   "source": [
    "mean_grouped_df.to_csv('Fasttext_mean_embedding.csv')"
   ]
  }
 ],
 "metadata": {
  "kernelspec": {
   "display_name": "Python 3 (ipykernel)",
   "language": "python",
   "name": "python3"
  },
  "language_info": {
   "codemirror_mode": {
    "name": "ipython",
    "version": 3
   },
   "file_extension": ".py",
   "mimetype": "text/x-python",
   "name": "python",
   "nbconvert_exporter": "python",
   "pygments_lexer": "ipython3",
   "version": "3.10.9"
  }
 },
 "nbformat": 4,
 "nbformat_minor": 5
}
